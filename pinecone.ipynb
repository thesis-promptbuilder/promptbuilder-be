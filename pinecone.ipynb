{
 "cells": [
  {
   "cell_type": "code",
   "execution_count": 4,
   "metadata": {},
   "outputs": [],
   "source": [
    "import re\n",
    "\n",
    "import pymongo\n",
    "\n",
    "from util.config_util import MONGO\n",
    "from util.pinecone import Pinecone\n",
    "from util.time_util import now\n",
    "\n",
    "db = MONGO['thesisDB']\n",
    "collection = db['CrawlPrompt']"
   ]
  },
  {
   "cell_type": "code",
   "execution_count": 2,
   "metadata": {},
   "outputs": [],
   "source": [
    "pinecone = Pinecone()"
   ]
  },
  {
   "cell_type": "code",
   "execution_count": 7,
   "metadata": {},
   "outputs": [],
   "source": [
    "list_id = []\n",
    "list_text = []\n",
    "list_metadata = []\n",
    "\n",
    "for record in collection.find():\n",
    "    _id = str(record['_id'])\n",
    "    _prompt = record.get('prompt', '')\n",
    "    _negative_prompt = record.get('negative_prompt', '')\n",
    "\n",
    "    list_id.append(_id)\n",
    "    list_text.append(_prompt)\n",
    "    list_metadata.append({\n",
    "        'id': _id,\n",
    "        'prompt': _prompt,\n",
    "        'negative_prompt': _negative_prompt\n",
    "    })"
   ]
  },
  {
   "cell_type": "code",
   "execution_count": null,
   "metadata": {},
   "outputs": [],
   "source": []
  }
 ],
 "metadata": {
  "kernelspec": {
   "display_name": "Python 3.10.11 ('thesis')",
   "language": "python",
   "name": "python3"
  },
  "language_info": {
   "codemirror_mode": {
    "name": "ipython",
    "version": 3
   },
   "file_extension": ".py",
   "mimetype": "text/x-python",
   "name": "python",
   "nbconvert_exporter": "python",
   "pygments_lexer": "ipython3",
   "version": "3.10.11"
  },
  "orig_nbformat": 4,
  "vscode": {
   "interpreter": {
    "hash": "38b65957f443eb0facfc9be7d15e797761e4680493ee8dad6632de70cf52c1d5"
   }
  }
 },
 "nbformat": 4,
 "nbformat_minor": 2
}
