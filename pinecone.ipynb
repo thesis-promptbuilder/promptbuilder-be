{
 "cells": [
  {
   "cell_type": "code",
   "execution_count": 1,
   "metadata": {},
   "outputs": [
    {
     "name": "stderr",
     "output_type": "stream",
     "text": [
      "/Users/tranhuuhuy297/Projects/thesis/lib/python3.8/site-packages/pinecone/index.py:4: TqdmWarning: IProgress not found. Please update jupyter and ipywidgets. See https://ipywidgets.readthedocs.io/en/stable/user_install.html\n",
      "  from tqdm.autonotebook import tqdm\n",
      "19-06-23 16:21:34 - INFO | Load pretrained SentenceTransformer: sentence-transformers/all-MiniLM-L6-v2\n",
      "19-06-23 16:21:34 - INFO | Use pytorch device: cpu\n",
      "19-06-23 16:21:36 - INFO | Found credentials in shared credentials file: ~/.aws/credentials\n",
      "19-06-23 16:21:36 - INFO | SQS: ap-southeast-1 | thesis\n"
     ]
    }
   ],
   "source": [
    "import re\n",
    "\n",
    "import pymongo\n",
    "\n",
    "from util.config_util import MONGO\n",
    "from util.pinecone import Pinecone\n",
    "from util.time_util import now\n",
    "\n",
    "db = MONGO['thesisDB']\n",
    "collection = db['CrawlPrompt']"
   ]
  },
  {
   "cell_type": "code",
   "execution_count": 2,
   "metadata": {},
   "outputs": [],
   "source": [
    "pinecone = Pinecone(namespace='crawl_prompt')"
   ]
  },
  {
   "cell_type": "code",
   "execution_count": 4,
   "metadata": {},
   "outputs": [],
   "source": [
    "# list_id = []\n",
    "# list_text = []\n",
    "# list_metadata = []\n",
    "\n",
    "# for record in collection.find():\n",
    "#     _id = str(record['_id'])\n",
    "#     _prompt = record.get('prompt', '')\n",
    "#     _negative_prompt = record.get('negative_prompt', '')\n",
    "\n",
    "#     list_id.append(_id)\n",
    "#     list_text.append(_prompt)\n",
    "#     list_metadata.append({\n",
    "#         'id': _id,\n",
    "#         'prompt': _prompt,\n",
    "#         'negative_prompt': _negative_prompt\n",
    "#     })"
   ]
  },
  {
   "cell_type": "code",
   "execution_count": null,
   "metadata": {},
   "outputs": [],
   "source": [
    "# STEP = 1000\n",
    "# for start in range(0, len(list_id), STEP):\n",
    "#     print(f'Range: {start}')\n",
    "#     pinecone.upsert(list_id[start: start + STEP], list_text[start: start + STEP], list_metadata[start: start + STEP])"
   ]
  },
  {
   "cell_type": "code",
   "execution_count": 7,
   "metadata": {},
   "outputs": [
    {
     "name": "stdout",
     "output_type": "stream",
     "text": [
      "superhero\n",
      "new superhero\n",
      "jesus man, superhero\n",
      "the strongest superhero\n",
      "turn me into a superhero\n",
      "superman\n",
      "superhero no one has ever seen before\n",
      "trump as a superhero\n",
      "batman\n",
      "catman, superhero\n",
      "superheroes fighting each other\n",
      "brand new marvel superhero\n",
      "the world's greatest superhero: the millennial kid\n",
      "a communist superhero in a comic book\n",
      "comic\n",
      "superhero power up on chest, detailed, comic, artstation\n",
      "<<url> as muscular superhero\n",
      "batman as spiderman\n",
      "female superhero with thunder power\n",
      "a superhero porcupine\n",
      "the great grandchildren of superheroes\n",
      "black superman\n",
      "the strongest superhero, 3d render\n",
      "an old middle aged superhero with black hair that's graying on the sides with a thick mustache and a strong prominent jawline and great smile in real life, portrait, photograph, realistic, hyperrealistic, highly detailed, very detailed, extremely detailed, detailed, digital art, trending on artstation, head and bodyshot\n",
      "president batman\n",
      "baby superman\n",
      "superman vs batman\n",
      "donald duck as superhero\n",
      "female superhero comic book art\n",
      "superhero called the creepy cryptid in the style of sylvain sarrailh, wispy magical smoke, beautiful digital art, cinematic composition, detailed, concept art, matt painting, oil painting, high res\n",
      "turkish superhero,\n",
      "arab superhero\n",
      "superhero based on megaman, ultra detailed, portrait, coherent, symmetry, character conept, trending on artstation\n",
      "superhero surrounded by shockwave\n",
      "a superhero called the dinner lady\n",
      "captain france the superhero | marvel, photo\n",
      "superhero captain singapore, singapore\n",
      "comic book style superhero with long hair that has claws coming out of the hands growling at the sky\n",
      "nikola tesla as a superhero with electric superpowers by dc comics\n",
      "thor superhero in the paw patrol\n",
      "a comic book page of a hamburger superhero\n",
      "buff captain marvel\n",
      "a powerful superhero stopping an asteroid from hitting earth\n",
      "baby batman\n",
      "dark - skinned superhero with a black suit and very minimal green details, his power comes from a ring that gives him mutant - like powers and a spectacular mask as a weapon he has an expandable staff. he wears no cape. he has a belt as a feline tail, digital art, artstation, conceptart, badass, by greg rutkowski androssdraws\n",
      "patriotic superhero comic book cover\n",
      "<<url> marvel, superhero, 4k\n",
      "dark - skinned superhero with a black suit and very minimal green details, his power comes from a ring that gives him mutant - like powers and a spectacular mask as a weapon he has an expandable staff. he wears no cape. he has a belt as a feline tail, digital art, artstation, conceptart, reference sheet badass\n",
      "japanese superman\n",
      "\"capture a photograph of a powerful (((superhero))) in action, set against a backdrop of a modern cityscape at night. the superhero should be depicted in a heroic pose, exuding strength and determination. use a medium shot to showcase the details of the superhero's costume and physique. the lighting should be dramatic, with city lights and ambient sources casting dynamic shadows and highlights. aim for a high-resolution image that captures the intensity of the moment. take inspiration from comic book illustrators and superhero movies to create a realistic portrayal of this iconic character.\"\n",
      "superman pirate\n",
      "nikola tesla as a superhero, by marvel comics and sandra chevrier\n",
      "dark - skinned superhero with a black suit and very minimal green details, his power comes from a ring that gives him mutant - like powers and a spectacular mask as a weapon he has an expandable staff. he wears no cape. he has a belt as a feline tail, digital art, artstation, conceptart, with golden chain connection at the colar bone sorta like a cape badass\n",
      "the strongest superhero, orange, 3d render\n",
      "comic book superhero fat man. gritty graphic novel.\n",
      "hero\n",
      "cute green mascot superhero, guarding the world, levitating, high quality\n",
      "elsa as a superhero\n",
      "the photograph of a superhero with long wavy hair white skin make up and a green costume, 50mm, bokeh, cinematic light, dynamic shadows\n",
      "christopher walken as a superhero in the marvel cinematic universe\n",
      "a female superhero called berry\n",
      "hulk hogan as batman\n",
      "superhero with green lasers streaming out of his eyes.\n",
      "superman in the style of gta v\n",
      "villain,\n",
      "santa as superman\n",
      "betty white marvel superhero\n",
      "donald trump as superman\n",
      "superman as a dog\n",
      "illustration of captain potato, marvel superhero\n",
      "photo of a superhero with fire powers\n",
      "nicolas cage as superman\n",
      "mr bean as superman. he is extremey clumsy and destroys many buildings by accident. dc comics coverart, comicbook, comic panel\n",
      "albert einstein as a cosmic superhero, by marvel comics and sandra chevrier\n",
      "kali as a superhero\n",
      "steampunk superhero\n",
      "superhero in a blue suit fighting a crime boss, in an abandoned warehouse, liminal space, light shines in through the roof, fantasy, intricate, grunge, realistic body, highly detailed, digital painting, artstation, concept art, smooth, sharp focus, cel-shaded, illustration, art by artgerm and greg rutkowski and alphonse mucha\n",
      "superman yyelling\n",
      "superman in the simpsons\n",
      "superhero logo with the letter l\n",
      "avengers\n",
      "light skinned black man. superhero. mixture of the superhero black panther from marvel and black adam from dc, has glowing orange eyes. give him a mask over her mouth like a mortal kombat warrior. incorporate a phoenix in a way that represents the power of the hero. also a really intense sword, kunai, and chains as weapons.\n",
      "a cod wearing a superhero cape\n",
      "spiderman fighting against batman\n",
      "michael jordan as superman\n",
      "a new marvel super hero called captain france\n",
      "superhero with nato shirt flying over pond of dead fish, 2 d hd, artstation, wallpaper, epic, graphic novel\n",
      "new super marvel movie\n",
      "spider man as the hulk\n",
      "batman kissing superman\n",
      "the joker as batman\n",
      "superhero character concept based on megaman, ultra detailed, portrait, coherent, symmetry, trending on artstation, character concept, character design\n",
      "a black, electricity themed superhero with white hair and red eyes. drawn by geoffroy thoorens. raphael lacoste. kuvshinov ilya\n",
      "superhero character concept based on megaman, ultra detailed, portrait, coherent, symmetry, trending on artstation, character concept, by marvel\n",
      "an adorable superhero porcupine\n",
      "female superheroes fighting, concept art\n",
      "thor from marvel\n",
      "a superhero made of poop, highly detailed, intricate linear patterns, sharp focus, art by artgerm and greg rutkowski and wlop\n",
      "superman fighting god\n",
      "nicholas cage as superman, superhero movie, dramatic, studio lighting\n"
     ]
    }
   ],
   "source": [
    "QUERY = input()\n",
    "for result in pinecone.query(QUERY):\n",
    "    metadata = result['metadata']\n",
    "    print(metadata['prompt'])"
   ]
  },
  {
   "cell_type": "code",
   "execution_count": 6,
   "metadata": {},
   "outputs": [
    {
     "data": {
      "text/plain": [
       "18372"
      ]
     },
     "execution_count": 6,
     "metadata": {},
     "output_type": "execute_result"
    }
   ],
   "source": [
    "ids = []\n",
    "for record in collection.find():\n",
    "    _id = str(record['_id'])\n",
    "    prompt = record['prompt']\n",
    "    if len(prompt.split()) < 3:\n",
    "        ids.append(_id)\n",
    "print(len(ids))"
   ]
  },
  {
   "cell_type": "code",
   "execution_count": 8,
   "metadata": {},
   "outputs": [
    {
     "name": "stdout",
     "output_type": "stream",
     "text": [
      "Range: 0\n",
      "Range: 1000\n",
      "Range: 2000\n",
      "Range: 3000\n",
      "Range: 4000\n",
      "Range: 5000\n",
      "Range: 6000\n",
      "Range: 7000\n",
      "Range: 8000\n",
      "Range: 9000\n",
      "Range: 10000\n",
      "Range: 11000\n",
      "Range: 12000\n",
      "Range: 13000\n",
      "Range: 14000\n",
      "Range: 15000\n",
      "Range: 16000\n",
      "Range: 17000\n",
      "Range: 18000\n"
     ]
    }
   ],
   "source": [
    "STEP = 1000\n",
    "for start in range(0, len(ids), STEP):\n",
    "    print(f'Range: {start}')\n",
    "    pinecone.delete(ids[start: start + STEP])"
   ]
  },
  {
   "cell_type": "code",
   "execution_count": null,
   "metadata": {},
   "outputs": [],
   "source": []
  }
 ],
 "metadata": {
  "kernelspec": {
   "display_name": "Python 3.10.11 ('thesis')",
   "language": "python",
   "name": "python3"
  },
  "language_info": {
   "codemirror_mode": {
    "name": "ipython",
    "version": 3
   },
   "file_extension": ".py",
   "mimetype": "text/x-python",
   "name": "python",
   "nbconvert_exporter": "python",
   "pygments_lexer": "ipython3",
   "version": "3.8.9"
  },
  "orig_nbformat": 4,
  "vscode": {
   "interpreter": {
    "hash": "38b65957f443eb0facfc9be7d15e797761e4680493ee8dad6632de70cf52c1d5"
   }
  }
 },
 "nbformat": 4,
 "nbformat_minor": 2
}
